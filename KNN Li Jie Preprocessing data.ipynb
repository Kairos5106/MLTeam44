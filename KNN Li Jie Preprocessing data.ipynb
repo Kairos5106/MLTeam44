{
 "cells": [
  {
   "attachments": {},
   "cell_type": "markdown",
   "metadata": {},
   "source": [
    "# 1.0 Importing Python Libraries\n",
    "- Use pandas for preprocessing, mlxtend for plotting, seaborn for visual representation, matplotlib for plotting graph"
   ]
  },
  {
   "cell_type": "code",
   "execution_count": 1,
   "metadata": {},
   "outputs": [],
   "source": [
    "\n",
    "import numpy as np\n",
    "import pandas as pd\n",
    "import matplotlib.pyplot as plt\n",
    "import seaborn as sns\n",
    "import warnings\n",
    "from mlxtend.plotting import plot_decision_regions\n",
    "from pandas.plotting import scatter_matrix\n",
    "\n",
    "warnings.filterwarnings('ignore')\n",
    "sns.set()\n",
    "%matplotlib inline"
   ]
  },
  {
   "attachments": {},
   "cell_type": "markdown",
   "metadata": {},
   "source": [
    "# 2.0 Data Processing \n",
    "- Replace missing values by mapping numerical mean into missing datasets\n",
    "- Created new column called 'diabetic_status' reffering to the level of 'avg_glucose_level'\n",
    "- Categorize categorical columns and convert to numerical values using mapping method\n"
   ]
  },
  {
   "cell_type": "code",
   "execution_count": 2,
   "metadata": {},
   "outputs": [
    {
     "name": "stdout",
     "output_type": "stream",
     "text": [
      "      gender   age  hypertension  heart_disease  ever_married  work_type   \n",
      "0        1.0  67.0             0              1             1          4  \\\n",
      "1        0.0  61.0             0              0             1          3   \n",
      "2        1.0  80.0             0              1             1          4   \n",
      "3        0.0  49.0             0              0             1          4   \n",
      "4        0.0  79.0             1              0             1          3   \n",
      "...      ...   ...           ...            ...           ...        ...   \n",
      "5105     0.0  80.0             1              0             1          4   \n",
      "5106     0.0  81.0             0              0             1          3   \n",
      "5107     0.0  35.0             0              0             1          3   \n",
      "5108     1.0  51.0             0              0             1          4   \n",
      "5109     0.0  44.0             0              0             1          2   \n",
      "\n",
      "      Residence_type  avg_glucose_level    bmi  smoking_status   \n",
      "0                  1             228.69  36.60             1.0  \\\n",
      "1                  0             202.21  28.89             0.0   \n",
      "2                  0             105.92  32.50             0.0   \n",
      "3                  1             171.23  34.40             2.0   \n",
      "4                  0             174.12  24.00             0.0   \n",
      "...              ...                ...    ...             ...   \n",
      "5105               1              83.75  28.89             0.0   \n",
      "5106               1             125.20  40.00             0.0   \n",
      "5107               0              82.99  30.60             0.0   \n",
      "5108               0             166.29  25.60             1.0   \n",
      "5109               1              85.28  26.20             0.7   \n",
      "\n",
      "      diabetic_status  stroke  \n",
      "0                   2       1  \n",
      "1                   2       1  \n",
      "2                   0       1  \n",
      "3                   1       1  \n",
      "4                   1       1  \n",
      "...               ...     ...  \n",
      "5105                0       0  \n",
      "5106                0       0  \n",
      "5107                0       0  \n",
      "5108                1       0  \n",
      "5109                0       0  \n",
      "\n",
      "[5110 rows x 12 columns]\n"
     ]
    }
   ],
   "source": [
    "data= pd.read_csv('C:/Users/lijie/Downloads/stroke-dataset-ruthvik_.csv',header=0)\n",
    "\n",
    "# dropping 'id' column because it has no substantial meaning for model\n",
    "data = data.drop('id', axis=1)\n",
    "\n",
    "# Fill missing values in 'bmi' column with the mean\n",
    "mean_bmi = data['bmi'].mean()\n",
    "mean_bmi_new = round(mean_bmi, 2)\n",
    "data['bmi'] = data['bmi'].fillna(mean_bmi_new)\n",
    "\n",
    "\n",
    "\n",
    "# Creating a new column called \"diabetic_status to categorize group of diabetic prone individuals based on their average glucose level\"\n",
    "# Avg glucose levels (x < 140)= Normal = 0\n",
    "# Avg glucose levels (200 > x > 139)= pre-diabetes = 1\n",
    "# Avg glucose levels (x > 200)= Diabetes = 2\n",
    "data.insert(10, 'diabetic_status', 0)\n",
    "data.loc[(data['avg_glucose_level'] > 139) & (data['avg_glucose_level'] < 200), 'diabetic_status'] = 1\n",
    "data.loc[data['avg_glucose_level'] >= 200, 'diabetic_status'] = 2\n",
    "\n",
    "\n",
    "\n",
    "categoricalVal= ['gender', 'ever_married', 'work_type', 'Residence_type',\n",
    "                       'smoking_status']\n",
    "\n",
    "# Convert categorical values into numerical based on their impact to stroke\n",
    "smoking_mapping = {\n",
    "    'smokes': 2,\n",
    "    'formerly smoked': 1,\n",
    "    'never smoked': 0\n",
    "}\n",
    "Yesno_mapping = {\n",
    "    'Yes':1, 'No':0\n",
    "}\n",
    "Gender_mapping={\n",
    "    'Male':1, 'Female':0,\n",
    "}\n",
    "Working_mapping={\n",
    "    'Private': 4,'Self-employed': 3, 'Govt_job': 2,'children':1,'Never_worked':0\n",
    "}\n",
    "Residence_type_mapping={\n",
    "    'Urban':1, 'Rural':0\n",
    "}\n",
    "\n",
    "data['smoking_status'] = data['smoking_status'].map(smoking_mapping)\n",
    "data['ever_married'] = data['ever_married'].map(Yesno_mapping)\n",
    "data['gender'] = data['gender'].map(Gender_mapping)\n",
    "data['work_type'] = data['work_type'].map(Working_mapping)\n",
    "data['Residence_type'] = data['Residence_type'].map(Residence_type_mapping)\n",
    "\n",
    "\n",
    "\n",
    "\n",
    "# Converting the 'smoking_status' categorical column into values weightage (0,1,2) based on whether they smoke, used to smoke or don't smoke\n",
    "# Using imputation method to fill empty values in the column and rounding it off to the nearest value\n",
    "\n",
    "\n",
    "# Fill missing values in the 'gender' column with the mode\n",
    "gender_mode = data['gender'].mode()[0]\n",
    "data['gender'].fillna(gender_mode, inplace=True)\n",
    "\n",
    "\n",
    "mean_smoking_status = data['smoking_status'].mean()\n",
    "mean_smoking_new = round(mean_smoking_status,1)\n",
    "data['smoking_status'] = data['smoking_status'].fillna(mean_smoking_new)\n",
    "\n",
    "\n",
    "\n",
    "data.to_csv(\"C:/Users/lijie/Downloads/ruthviktester.csv\", index=False)\n",
    "print(data)\n"
   ]
  },
  {
   "attachments": {},
   "cell_type": "markdown",
   "metadata": {},
   "source": [
    "# 3.1 Data Exploration\n",
    "- Understand data better with count, mean, std deviation, first/third/inter- quartile ranges, maximum values"
   ]
  },
  {
   "cell_type": "code",
   "execution_count": 3,
   "metadata": {},
   "outputs": [
    {
     "data": {
      "text/html": [
       "<div>\n",
       "<style scoped>\n",
       "    .dataframe tbody tr th:only-of-type {\n",
       "        vertical-align: middle;\n",
       "    }\n",
       "\n",
       "    .dataframe tbody tr th {\n",
       "        vertical-align: top;\n",
       "    }\n",
       "\n",
       "    .dataframe thead th {\n",
       "        text-align: right;\n",
       "    }\n",
       "</style>\n",
       "<table border=\"1\" class=\"dataframe\">\n",
       "  <thead>\n",
       "    <tr style=\"text-align: right;\">\n",
       "      <th></th>\n",
       "      <th>count</th>\n",
       "      <th>mean</th>\n",
       "      <th>std</th>\n",
       "      <th>min</th>\n",
       "      <th>25%</th>\n",
       "      <th>50%</th>\n",
       "      <th>75%</th>\n",
       "      <th>max</th>\n",
       "    </tr>\n",
       "  </thead>\n",
       "  <tbody>\n",
       "    <tr>\n",
       "      <th>gender</th>\n",
       "      <td>5110.0</td>\n",
       "      <td>0.413894</td>\n",
       "      <td>0.492578</td>\n",
       "      <td>0.00</td>\n",
       "      <td>0.000</td>\n",
       "      <td>0.000</td>\n",
       "      <td>1.00</td>\n",
       "      <td>1.00</td>\n",
       "    </tr>\n",
       "    <tr>\n",
       "      <th>age</th>\n",
       "      <td>5110.0</td>\n",
       "      <td>43.226614</td>\n",
       "      <td>22.612647</td>\n",
       "      <td>0.08</td>\n",
       "      <td>25.000</td>\n",
       "      <td>45.000</td>\n",
       "      <td>61.00</td>\n",
       "      <td>82.00</td>\n",
       "    </tr>\n",
       "    <tr>\n",
       "      <th>hypertension</th>\n",
       "      <td>5110.0</td>\n",
       "      <td>0.097456</td>\n",
       "      <td>0.296607</td>\n",
       "      <td>0.00</td>\n",
       "      <td>0.000</td>\n",
       "      <td>0.000</td>\n",
       "      <td>0.00</td>\n",
       "      <td>1.00</td>\n",
       "    </tr>\n",
       "    <tr>\n",
       "      <th>heart_disease</th>\n",
       "      <td>5110.0</td>\n",
       "      <td>0.054012</td>\n",
       "      <td>0.226063</td>\n",
       "      <td>0.00</td>\n",
       "      <td>0.000</td>\n",
       "      <td>0.000</td>\n",
       "      <td>0.00</td>\n",
       "      <td>1.00</td>\n",
       "    </tr>\n",
       "    <tr>\n",
       "      <th>ever_married</th>\n",
       "      <td>5110.0</td>\n",
       "      <td>0.656164</td>\n",
       "      <td>0.475034</td>\n",
       "      <td>0.00</td>\n",
       "      <td>0.000</td>\n",
       "      <td>1.000</td>\n",
       "      <td>1.00</td>\n",
       "      <td>1.00</td>\n",
       "    </tr>\n",
       "    <tr>\n",
       "      <th>work_type</th>\n",
       "      <td>5110.0</td>\n",
       "      <td>3.162035</td>\n",
       "      <td>1.118698</td>\n",
       "      <td>0.00</td>\n",
       "      <td>2.000</td>\n",
       "      <td>4.000</td>\n",
       "      <td>4.00</td>\n",
       "      <td>4.00</td>\n",
       "    </tr>\n",
       "    <tr>\n",
       "      <th>Residence_type</th>\n",
       "      <td>5110.0</td>\n",
       "      <td>0.508023</td>\n",
       "      <td>0.499985</td>\n",
       "      <td>0.00</td>\n",
       "      <td>0.000</td>\n",
       "      <td>1.000</td>\n",
       "      <td>1.00</td>\n",
       "      <td>1.00</td>\n",
       "    </tr>\n",
       "    <tr>\n",
       "      <th>avg_glucose_level</th>\n",
       "      <td>5110.0</td>\n",
       "      <td>106.147677</td>\n",
       "      <td>45.283560</td>\n",
       "      <td>55.12</td>\n",
       "      <td>77.245</td>\n",
       "      <td>91.885</td>\n",
       "      <td>114.09</td>\n",
       "      <td>271.74</td>\n",
       "    </tr>\n",
       "    <tr>\n",
       "      <th>bmi</th>\n",
       "      <td>5110.0</td>\n",
       "      <td>28.893110</td>\n",
       "      <td>7.698018</td>\n",
       "      <td>10.30</td>\n",
       "      <td>23.800</td>\n",
       "      <td>28.400</td>\n",
       "      <td>32.80</td>\n",
       "      <td>97.60</td>\n",
       "    </tr>\n",
       "    <tr>\n",
       "      <th>smoking_status</th>\n",
       "      <td>5110.0</td>\n",
       "      <td>0.693503</td>\n",
       "      <td>0.676757</td>\n",
       "      <td>0.00</td>\n",
       "      <td>0.000</td>\n",
       "      <td>0.700</td>\n",
       "      <td>1.00</td>\n",
       "      <td>2.00</td>\n",
       "    </tr>\n",
       "    <tr>\n",
       "      <th>diabetic_status</th>\n",
       "      <td>5110.0</td>\n",
       "      <td>0.247358</td>\n",
       "      <td>0.596745</td>\n",
       "      <td>0.00</td>\n",
       "      <td>0.000</td>\n",
       "      <td>0.000</td>\n",
       "      <td>0.00</td>\n",
       "      <td>2.00</td>\n",
       "    </tr>\n",
       "    <tr>\n",
       "      <th>stroke</th>\n",
       "      <td>5110.0</td>\n",
       "      <td>0.048728</td>\n",
       "      <td>0.215320</td>\n",
       "      <td>0.00</td>\n",
       "      <td>0.000</td>\n",
       "      <td>0.000</td>\n",
       "      <td>0.00</td>\n",
       "      <td>1.00</td>\n",
       "    </tr>\n",
       "  </tbody>\n",
       "</table>\n",
       "</div>"
      ],
      "text/plain": [
       "                    count        mean        std    min     25%     50%   \n",
       "gender             5110.0    0.413894   0.492578   0.00   0.000   0.000  \\\n",
       "age                5110.0   43.226614  22.612647   0.08  25.000  45.000   \n",
       "hypertension       5110.0    0.097456   0.296607   0.00   0.000   0.000   \n",
       "heart_disease      5110.0    0.054012   0.226063   0.00   0.000   0.000   \n",
       "ever_married       5110.0    0.656164   0.475034   0.00   0.000   1.000   \n",
       "work_type          5110.0    3.162035   1.118698   0.00   2.000   4.000   \n",
       "Residence_type     5110.0    0.508023   0.499985   0.00   0.000   1.000   \n",
       "avg_glucose_level  5110.0  106.147677  45.283560  55.12  77.245  91.885   \n",
       "bmi                5110.0   28.893110   7.698018  10.30  23.800  28.400   \n",
       "smoking_status     5110.0    0.693503   0.676757   0.00   0.000   0.700   \n",
       "diabetic_status    5110.0    0.247358   0.596745   0.00   0.000   0.000   \n",
       "stroke             5110.0    0.048728   0.215320   0.00   0.000   0.000   \n",
       "\n",
       "                      75%     max  \n",
       "gender               1.00    1.00  \n",
       "age                 61.00   82.00  \n",
       "hypertension         0.00    1.00  \n",
       "heart_disease        0.00    1.00  \n",
       "ever_married         1.00    1.00  \n",
       "work_type            4.00    4.00  \n",
       "Residence_type       1.00    1.00  \n",
       "avg_glucose_level  114.09  271.74  \n",
       "bmi                 32.80   97.60  \n",
       "smoking_status       1.00    2.00  \n",
       "diabetic_status      0.00    2.00  \n",
       "stroke               0.00    1.00  "
      ]
     },
     "execution_count": 3,
     "metadata": {},
     "output_type": "execute_result"
    }
   ],
   "source": [
    "data.describe().T"
   ]
  },
  {
   "attachments": {},
   "cell_type": "markdown",
   "metadata": {},
   "source": [
    "# 3.2 Ensure that the dataset has no missing values after data processing \n",
    "- Use pandas isnull().sum() function to totalise empty cells in the dataset"
   ]
  },
  {
   "cell_type": "code",
   "execution_count": 4,
   "metadata": {},
   "outputs": [
    {
     "name": "stdout",
     "output_type": "stream",
     "text": [
      "stroke\n",
      "0    4861\n",
      "1     249\n",
      "Name: count, dtype: int64\n"
     ]
    }
   ],
   "source": [
    "data.isnull().sum()\n",
    "class_counts = data['stroke'].value_counts()\n",
    "print(class_counts)\n"
   ]
  },
  {
   "attachments": {},
   "cell_type": "markdown",
   "metadata": {},
   "source": [
    "# 4.0 Implement KNN model \n",
    "- This is a KNN classification model on a stroke dataset after handling class imbalance through oversampling using the (import imblearn using RandomOverSampler)\n",
    "- The model evaluates different k values to find the optimal number of neighbor and finds the average accuracy, maximum training score, and maximum testing score achieved\n",
    "- Different values of k every iteration inside the loop will vary the results and accuracy of the KNN classifier\n",
    "- 'Stroke' column is used as the output variable (y) while independent variables are all except 'stroke' columns (X) \n",
    "- Implementation of random oversampling is applied to balance the class distribution due to the (class=0) being the majority over the (class=1)[stroke positive]"
   ]
  },
  {
   "cell_type": "code",
   "execution_count": 5,
   "metadata": {},
   "outputs": [
    {
     "name": "stdout",
     "output_type": "stream",
     "text": [
      "Average Accuracy: 91.71%\n",
      "Max train score 100.0 % and k = [1, 2]\n",
      "Max test score 96.48256710891701 % and k = [1, 2]\n"
     ]
    }
   ],
   "source": [
    "import pandas as pd\n",
    "import numpy as np\n",
    "from imblearn.over_sampling import RandomOverSampler\n",
    "from sklearn.preprocessing import StandardScaler\n",
    "from sklearn.model_selection import train_test_split\n",
    "from sklearn.neighbors import KNeighborsClassifier\n",
    "from sklearn.metrics import accuracy_score\n",
    "\n",
    "\n",
    "# Assuming 'data' is the DataFrame containing the dataset\n",
    "\n",
    "sc_X = StandardScaler()\n",
    "X = data.drop([\"stroke\"], axis=1)  # Remove 'stroke' column\n",
    "X = pd.DataFrame(sc_X.fit_transform(X), columns=data.columns[:-1])  # Scale and use original column names\n",
    "y = data['stroke']\n",
    "\n",
    "# Perform oversampling to balance the class distribution\n",
    "oversampler = RandomOverSampler(random_state=42)\n",
    "X_resampled, y_resampled = oversampler.fit_resample(X, y)\n",
    "\n",
    "X_train, X_test, y_train, y_test = train_test_split(X_resampled, y_resampled, test_size=1/3, random_state=42, stratify=y_resampled)\n",
    "\n",
    "test_scores = []\n",
    "train_scores = []\n",
    "\n",
    "for i in range(1, 11):\n",
    "    knn = KNeighborsClassifier(i)\n",
    "    knn.fit(X_train, y_train)\n",
    "    \n",
    "    train_scores.append(knn.score(X_train, y_train))\n",
    "    y_pred = knn.predict(X_test)\n",
    "    test_scores.append(accuracy_score(y_test, y_pred))\n",
    "\n",
    "average_accuracy = np.mean(test_scores)\n",
    "print(\"Average Accuracy: {:.2f}%\".format(average_accuracy * 100))\n",
    "    \n",
    "max_train_score = max(train_scores)\n",
    "train_scores_ind = [i for i, v in enumerate(train_scores) if v == max_train_score]\n",
    "print('Max train score {} % and k = {}'.format(max_train_score*100, list(map(lambda x: x+1, train_scores_ind))))\n",
    "\n",
    "max_test_score = max(test_scores)\n",
    "test_scores_ind = [i for i, v in enumerate(test_scores) if v == max_test_score]\n",
    "print('Max test score {} % and k = {}'.format(max_test_score*100, list(map(lambda x: x+1, test_scores_ind))))\n",
    "\n",
    "\n",
    "\n"
   ]
  },
  {
   "attachments": {},
   "cell_type": "markdown",
   "metadata": {},
   "source": [
    "# 5.0 Model results analysis\n",
    "- Create visual graph to evaluate train and test scores using \"matplotlib\"\n",
    "- Analyse whether trained data is overfitting or underfitting the dataset based on the train score and test score lines\n",
    "- The results shows no overfitting or underfitting and suggest that the model fits the testing data "
   ]
  },
  {
   "cell_type": "code",
   "execution_count": 6,
   "metadata": {},
   "outputs": [
    {
     "data": {
      "image/png": "[encoded data removed]",
      "text/plain": [
       "<Figure size 1100x500 with 1 Axes>"
      ]
     },
     "metadata": {},
     "output_type": "display_data"
    }
   ],
   "source": [
    "import matplotlib.pyplot as plt\n",
    "import seaborn as sns\n",
    "import numpy as np\n",
    "\n",
    "# Assuming 'train_scores' and 'test_scores' are populated correctly\n",
    "\n",
    "plt.figure(figsize=(11, 5))\n",
    "sns.lineplot(x=range(1, 11), y=train_scores, marker='*', label='Train Score')\n",
    "sns.lineplot(x=range(1, 11), y=test_scores, marker='o', label='Test Score')\n",
    "plt.xlabel('k')\n",
    "plt.ylabel('Score')\n",
    "plt.title('Train and Test Scores')\n",
    "plt.legend()\n",
    "plt.show()\n",
    "\n",
    "from sklearn.metrics import accuracy_score\n",
    "\n",
    "# Assuming you have the predicted labels 'y_pred' and the actual labels 'y_true'\n",
    "\n",
    "\n",
    "\n"
   ]
  },
  {
   "attachments": {},
   "cell_type": "markdown",
   "metadata": {},
   "source": [
    "# 5.1 Obtain the accuracy of the trained model with the latest K value"
   ]
  },
  {
   "cell_type": "code",
   "execution_count": 7,
   "metadata": {},
   "outputs": [
    {
     "data": {
      "text/plain": [
       "0.8571428571428571"
      ]
     },
     "execution_count": 7,
     "metadata": {},
     "output_type": "execute_result"
    }
   ],
   "source": [
    "knn = KNeighborsClassifier(11)\n",
    "\n",
    "knn.fit(X_train,y_train)\n",
    "knn.score(X_test,y_test)"
   ]
  },
  {
   "attachments": {},
   "cell_type": "markdown",
   "metadata": {},
   "source": [
    "# 5.2 Confusion Matrix graph classification results representation"
   ]
  },
  {
   "cell_type": "code",
   "execution_count": 8,
   "metadata": {},
   "outputs": [
    {
     "data": {
      "text/plain": [
       "Text(0.5, 20.049999999999997, 'Predicted label')"
      ]
     },
     "execution_count": 8,
     "metadata": {},
     "output_type": "execute_result"
    },
    {
     "data": {
      "image/png": "[encoded data removed]",
      "text/plain": [
       "<Figure size 640x480 with 2 Axes>"
      ]
     },
     "metadata": {},
     "output_type": "display_data"
    }
   ],
   "source": [
    "from sklearn.metrics import confusion_matrix\n",
    "from sklearn.neighbors import KNeighborsClassifier\n",
    "from mlxtend.plotting import plot_decision_regions\n",
    "import numpy as np\n",
    "import pandas as pd\n",
    "import matplotlib.pyplot as plt\n",
    "import seaborn as sns\n",
    "sns.set()\n",
    "import warnings\n",
    "warnings.filterwarnings('ignore')\n",
    "%matplotlib inline\n",
    "\n",
    "\n",
    "#let us get the predictions using the classifier we had fit above\n",
    "y_pred = knn.predict(X_test)\n",
    "confusion_matrix(y_test,y_pred)\n",
    "pd.crosstab(y_test, y_pred, rownames=['True'], colnames=['Predicted'], margins=True)\n",
    "\n",
    "y_pred = knn.predict(X_test)\n",
    "from sklearn import metrics\n",
    "cnf_matrix = metrics.confusion_matrix(y_test, y_pred)\n",
    "p = sns.heatmap(pd.DataFrame(cnf_matrix), annot=True, cmap=\"YlGnBu\" ,fmt='g')\n",
    "plt.title('Confusion matrix', y=1.1)\n",
    "plt.ylabel('Actual label')\n",
    "plt.xlabel('Predicted label')"
   ]
  },
  {
   "attachments": {},
   "cell_type": "markdown",
   "metadata": {},
   "source": [
    "# 5.3 Perform classification report based on the y_test values and y_pred values\n",
    "- Classification report results shows both class=0 and class=1 accuracy are similar with f1-scores at the range (83% to 87%)"
   ]
  },
  {
   "cell_type": "code",
   "execution_count": 9,
   "metadata": {},
   "outputs": [
    {
     "name": "stdout",
     "output_type": "stream",
     "text": [
      "              precision    recall  f1-score   support\n",
      "\n",
      "           0       1.00      0.72      0.83      1621\n",
      "           1       0.78      1.00      0.87      1620\n",
      "\n",
      "    accuracy                           0.86      3241\n",
      "   macro avg       0.89      0.86      0.85      3241\n",
      "weighted avg       0.89      0.86      0.85      3241\n",
      "\n"
     ]
    }
   ],
   "source": [
    "from sklearn.metrics import classification_report\n",
    "print(classification_report(y_test,y_pred))"
   ]
  }
 ],
 "metadata": {
  "kernelspec": {
   "display_name": "Python 3",
   "language": "python",
   "name": "python3"
  },
  "language_info": {
   "codemirror_mode": {
    "name": "ipython",
    "version": 3
   },
   "file_extension": ".py",
   "mimetype": "text/x-python",
   "name": "python",
   "nbconvert_exporter": "python",
   "pygments_lexer": "ipython3",
   "version": "3.9.0"
  },
  "orig_nbformat": 4
 },
 "nbformat": 4,
 "nbformat_minor": 2
}
