{
 "cells": [
  {
   "cell_type": "code",
   "execution_count": 32,
   "metadata": {},
   "outputs": [],
   "source": [
    "import pandas as pd"
   ]
  },
  {
   "cell_type": "code",
   "execution_count": 51,
   "metadata": {},
   "outputs": [
    {
     "name": "stdout",
     "output_type": "stream",
     "text": [
      "         id gender   age  hypertension  heart_disease  ever_married   \n",
      "0      9046      1  67.0             0              1             1  \\\n",
      "1     51676      0  61.0             0              0             1   \n",
      "2     31112      1  80.0             0              1             1   \n",
      "3     60182      0  49.0             0              0             1   \n",
      "4      1665      0  79.0             1              0             1   \n",
      "...     ...    ...   ...           ...            ...           ...   \n",
      "5105  18234      0  80.0             1              0             1   \n",
      "5106  44873      0  81.0             0              0             1   \n",
      "5107  19723      0  35.0             0              0             1   \n",
      "5108  37544      1  51.0             0              0             1   \n",
      "5109  44679      0  44.0             0              0             1   \n",
      "\n",
      "      work_type  Residence_type  avg_glucose_level    bmi  smoking_status   \n",
      "0             4               1             228.69  36.60             1.0  \\\n",
      "1             3               0             202.21  28.89             0.0   \n",
      "2             4               0             105.92  32.50             0.0   \n",
      "3             4               1             171.23  34.40             2.0   \n",
      "4             3               0             174.12  24.00             0.0   \n",
      "...         ...             ...                ...    ...             ...   \n",
      "5105          4               1              83.75  28.89             0.0   \n",
      "5106          3               1             125.20  40.00             0.0   \n",
      "5107          3               0              82.99  30.60             0.0   \n",
      "5108          4               0             166.29  25.60             1.0   \n",
      "5109          2               1              85.28  26.20             0.7   \n",
      "\n",
      "      stroke  diabetic status  \n",
      "0          1                2  \n",
      "1          1                2  \n",
      "2          1                0  \n",
      "3          1                1  \n",
      "4          1                1  \n",
      "...      ...              ...  \n",
      "5105       0                0  \n",
      "5106       0                0  \n",
      "5107       0                0  \n",
      "5108       0                1  \n",
      "5109       0                0  \n",
      "\n",
      "[5110 rows x 13 columns]\n"
     ]
    }
   ],
   "source": [
    "data= pd.read_csv('C:/Users/lijie/Downloads/stroke-dataset-ruthvik_.csv',header=0)\n",
    "\n",
    "# Fill missing values in 'bmi' column with the mean\n",
    "mean_bmi = data['bmi'].mean()\n",
    "mean_bmi_new = round(mean_bmi, 2)\n",
    "data['bmi'] = data['bmi'].fillna(mean_bmi_new)\n",
    "\n",
    "# Creating a new column called \"diabetic_status to categorize group of diabetic prone individuals based on their average glucose level\"\n",
    "# Avg glucose levels (x < 140)= Normal = 0\n",
    "# Avg glucose levels (200 > x > 139)= pre-diabetes = 1\n",
    "# Avg glucose levels (x > 200)= Diabetes = 2\n",
    "data['diabetic status'] = 0  \n",
    "data.loc[(data['avg_glucose_level'] > 139) & (data['avg_glucose_level'] < 200), 'diabetic status'] = 1\n",
    "data.loc[data['avg_glucose_level'] >= 200, 'diabetic status'] = 2\n",
    "\n",
    "\n",
    "categoricalVal= ['gender', 'ever_married', 'work_type', 'Residence_type',\n",
    "                       'smoking_status']\n",
    "\n",
    "# Convert categorical values into numerical based on their impact to stroke\n",
    "data.replace({          'Yes': 1, 'No': 0, \n",
    "                        'Male':1, 'Female':0,\n",
    "                        'Private': 4,'Self-employed': 3, 'Govt_job': 2,'children':1,'Never_worked':0, \n",
    "                        'Urban':1, 'Rural':0, \n",
    "                        \n",
    "                        }, inplace=True)\n",
    "\n",
    "\n",
    "smoking_mapping = {\n",
    "    'smokes': 2,\n",
    "    'formerly smoked': 1,\n",
    "    'never smoked': 0\n",
    "}\n",
    "# Converting the 'smoking_status' categorical column into values weightage (0,1,2) based on whether they smoke, used to smoke or don't smoke\n",
    "# Using imputation method to fill empty values in the column and rounding it off to the nearest value\n",
    "data['smoking_status'] = data['smoking_status'].map(smoking_mapping)\n",
    "mean_smoking_status = data['smoking_status'].mean()\n",
    "mean_smoking_new = round(mean_smoking_status,1)\n",
    "data['smoking_status'] = data['smoking_status'].fillna(mean_smoking_new)\n",
    "\n",
    "data.to_csv(\"C:/Users/lijie/Downloads/ruthviktester.csv\", index=False)\n",
    "print(data)\n"
   ]
  }
 ],
 "metadata": {
  "kernelspec": {
   "display_name": "Python 3",
   "language": "python",
   "name": "python3"
  },
  "language_info": {
   "name": "python",
   "version": "3.9.0"
  },
  "orig_nbformat": 4
 },
 "nbformat": 4,
 "nbformat_minor": 2
}
